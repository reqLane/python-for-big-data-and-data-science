{
  "nbformat": 4,
  "nbformat_minor": 0,
  "metadata": {
    "colab": {
      "provenance": [],
      "toc_visible": true
    },
    "kernelspec": {
      "name": "python3",
      "display_name": "Python 3"
    },
    "language_info": {
      "name": "python"
    }
  },
  "cells": [
    {
      "cell_type": "markdown",
      "source": [
        "# I. OOP"
      ],
      "metadata": {
        "id": "5qV_sehzFCTp"
      }
    },
    {
      "cell_type": "markdown",
      "source": [
        "1. (6б). Створіть клас Animal, додайте три атрибути, один з яких має значення за замовчуванням та два методи на свій розсуд."
      ],
      "metadata": {
        "id": "tx_U_hOALyfg"
      }
    },
    {
      "cell_type": "code",
      "source": [
        "class Animal:\n",
        "    def __init__(self, species, legs, eyes=2):\n",
        "        self.species = species\n",
        "        self.legs = legs\n",
        "        self.eyes = eyes\n",
        "\n",
        "    def look_somewhere(self):\n",
        "        print(f'Animal {self.species} looks somewhere.')\n",
        "\n",
        "    def gain_new_leg(self):\n",
        "        self.legs += 1\n",
        "        print(f'Animal {self.species} gained one more leg.')"
      ],
      "metadata": {
        "id": "-Vf895KaL88N"
      },
      "execution_count": 1,
      "outputs": []
    },
    {
      "cell_type": "markdown",
      "source": [
        "2. (2б). Створіть два обʼєкти цього класу, де один з обʼєктів створюється із дефолтним значенням атрибуту. На одному обʼєкті отримайте значення його атрибуту, а на іншому викличте один з його методів."
      ],
      "metadata": {
        "id": "X_UlOMB0L93w"
      }
    },
    {
      "cell_type": "code",
      "source": [
        "cat = Animal(\"Cat\", 4)\n",
        "spider = Animal(\"Spider\", 6, 6)\n",
        "print(cat.eyes)\n",
        "spider.look_somewhere()"
      ],
      "metadata": {
        "id": "7gBu0ESOMCpG",
        "colab": {
          "base_uri": "https://localhost:8080/"
        },
        "outputId": "02cb116c-3e29-415f-e207-96c86e7b9621"
      },
      "execution_count": 2,
      "outputs": [
        {
          "output_type": "stream",
          "name": "stdout",
          "text": [
            "2\n",
            "Animal Spider looks somewhere.\n"
          ]
        }
      ]
    },
    {
      "cell_type": "markdown",
      "source": [
        "3. (5б). Створіть клас, де атрибути мають різні рівні доступу. Спробуйте отримати їхні значення та опишіть результати."
      ],
      "metadata": {
        "id": "HoqSCZt1MHn5"
      }
    },
    {
      "cell_type": "code",
      "source": [
        "class Computer:\n",
        "    def __init__(self, price, weight, age):\n",
        "        self.price = price\n",
        "        self._weight = weight\n",
        "        self.__age = age\n",
        "\n",
        "\n",
        "old_computer = Computer(13499.99, 8.2, 5)\n",
        "print(f'Price = {old_computer.price} USD')    # Отримати public атрибут можна завжди, це найлегший випадок\n",
        "print(f'Weight = {old_computer._weight} kg')  # Отримати protected атрибут також можна як бачимо, проте є домовленість, що так робити краще не треба (як я знаю тільки для нащадків цього класу)\n",
        "print(f'Age = {old_computer.__age} years')    # Отримати private атрибут нам уже навіть сам пайтон забороняє, це неможливо, його не видно ззовні, використати не можна"
      ],
      "metadata": {
        "id": "r9b3vJxBMSPV",
        "colab": {
          "base_uri": "https://localhost:8080/",
          "height": 211
        },
        "outputId": "a81d383b-1102-4bde-d0aa-ab79289c65b2"
      },
      "execution_count": 3,
      "outputs": [
        {
          "output_type": "stream",
          "name": "stdout",
          "text": [
            "Price = 13499.99 USD\n",
            "Weight = 8.2 kg\n"
          ]
        },
        {
          "output_type": "error",
          "ename": "AttributeError",
          "evalue": "'Computer' object has no attribute '__age'",
          "traceback": [
            "\u001b[0;31m---------------------------------------------------------------------------\u001b[0m",
            "\u001b[0;31mAttributeError\u001b[0m                            Traceback (most recent call last)",
            "\u001b[0;32m<ipython-input-3-2468891d08b3>\u001b[0m in \u001b[0;36m<cell line: 11>\u001b[0;34m()\u001b[0m\n\u001b[1;32m      9\u001b[0m \u001b[0mprint\u001b[0m\u001b[0;34m(\u001b[0m\u001b[0;34mf'Price = {old_computer.price} USD'\u001b[0m\u001b[0;34m)\u001b[0m    \u001b[0;31m# Отримати public атрибут можна завжди, це найлегший випадок\u001b[0m\u001b[0;34m\u001b[0m\u001b[0;34m\u001b[0m\u001b[0m\n\u001b[1;32m     10\u001b[0m \u001b[0mprint\u001b[0m\u001b[0;34m(\u001b[0m\u001b[0;34mf'Weight = {old_computer._weight} kg'\u001b[0m\u001b[0;34m)\u001b[0m  \u001b[0;31m# Отримати protected атрибут також можна як бачимо, проте є домовленість, що так робити краще не треба (як я знаю тільки для нащадків цього класу)\u001b[0m\u001b[0;34m\u001b[0m\u001b[0;34m\u001b[0m\u001b[0m\n\u001b[0;32m---> 11\u001b[0;31m \u001b[0mprint\u001b[0m\u001b[0;34m(\u001b[0m\u001b[0;34mf'Age = {old_computer.__age} years'\u001b[0m\u001b[0;34m)\u001b[0m    \u001b[0;31m# Отримати private атрибут нам уже навіть сам пайтон забороняє, це неможливо, його не видно ззовні, використати не можна\u001b[0m\u001b[0;34m\u001b[0m\u001b[0;34m\u001b[0m\u001b[0m\n\u001b[0m",
            "\u001b[0;31mAttributeError\u001b[0m: 'Computer' object has no attribute '__age'"
          ]
        }
      ]
    },
    {
      "cell_type": "markdown",
      "source": [
        "4. (7б). Як ви розумієте термін self? Для чого використовується метод __init __?"
      ],
      "metadata": {
        "id": "5op2m2vgMSkZ"
      }
    },
    {
      "cell_type": "markdown",
      "source": [
        "self це змінна, яку використовуємо в коді класу, яка несе в собі посилання на самого себе, на екземпляр(об'єкт), щоб доступатися до атрибутів. Можна називати як завгодно по суті, проте домовленість щодо саме цієї назви. Щодо __init__, то цей метод викликається після створення екземплярів класу, і в якому прописується логіка задання атрибутів на основі вхідних даних. Це конструктор."
      ],
      "metadata": {
        "id": "DyiPqNRvMasx"
      }
    },
    {
      "cell_type": "markdown",
      "source": [
        "5. (9б). Створіть клас Фігура без атрибутів, з методом get_area для отримання площі фігури, що повертає 0 та __add __, який приймає self та other в якості аргументів, а повертає суму площин фігур self та other."
      ],
      "metadata": {
        "id": "-6X8EGfjMd2y"
      }
    },
    {
      "cell_type": "code",
      "source": [
        "class Figure:\n",
        "    def __init__(self):\n",
        "        pass\n",
        "\n",
        "    def get_area(self):\n",
        "        return 0\n",
        "\n",
        "    def __add__(self, other):\n",
        "        return self.get_area() + other.get_area()"
      ],
      "metadata": {
        "id": "4rvO_wYUMaEr"
      },
      "execution_count": 4,
      "outputs": []
    },
    {
      "cell_type": "markdown",
      "source": [
        "6. (11б). Створіть 2 дочірніх класи від Фігури: Трикутник та Коло, які мають атрибути, необхідні для розрахунку площин. Визначте метод get_area в кожному з них так, щоби вони розраховували площу в залежності від формули для кожного типу фігури. Створіть обʼєкт класу Трикутник та обʼєкт класу Коло. Виконайте операцію суми за допомогою оператора + між ними."
      ],
      "metadata": {
        "id": "SFcKnnv5Mo_z"
      }
    },
    {
      "cell_type": "code",
      "source": [
        "import math\n",
        "\n",
        "\n",
        "class Triangle(Figure):\n",
        "    def __init__(self, side_a, side_b, side_c):\n",
        "        self.side_a = side_a\n",
        "        self.side_b = side_b\n",
        "        self.side_c = side_c\n",
        "\n",
        "    def get_area(self):\n",
        "        p = (self.side_a + self.side_b + self.side_c) / 2\n",
        "        return math.sqrt(p * (p - self.side_a) * (p - self.side_b) * (p - self.side_c))\n",
        "\n",
        "\n",
        "class Circle(Figure):\n",
        "    def __init__(self, radius):\n",
        "        self.radius = radius\n",
        "\n",
        "    def get_area(self):\n",
        "        return math.pi * (self.radius ** 2)\n",
        "\n",
        "\n",
        "triangle = Triangle(5, 12, 13)\n",
        "circle = Circle(10)\n",
        "print(triangle.get_area())\n",
        "print(circle.get_area())\n",
        "print(triangle + circle)"
      ],
      "metadata": {
        "id": "H3GVNr69Muf3",
        "colab": {
          "base_uri": "https://localhost:8080/"
        },
        "outputId": "9c7b635f-aa05-417f-f275-9c31120d3db1"
      },
      "execution_count": 5,
      "outputs": [
        {
          "output_type": "stream",
          "name": "stdout",
          "text": [
            "30.0\n",
            "314.1592653589793\n",
            "344.1592653589793\n"
          ]
        }
      ]
    },
    {
      "cell_type": "markdown",
      "source": [
        "7. (3б). Продемонструйте різницю між isinstance та issubclass."
      ],
      "metadata": {
        "id": "HCvR206YMvLK"
      }
    },
    {
      "cell_type": "code",
      "source": [
        "# isinstance\n",
        "print(isinstance(triangle, Triangle))\n",
        "print(isinstance(triangle, Figure))\n",
        "print(isinstance(circle, Circle))\n",
        "print(isinstance(circle, Figure))\n",
        "print(isinstance(circle, Triangle))\n",
        "#issubclass\n",
        "print(issubclass(Triangle, Figure))\n",
        "print(issubclass(Figure, Figure))\n",
        "print(issubclass(Figure, Triangle))\n",
        "\n",
        "# Це дві абсолютно різні функції по суті як на мене. По-перше аргументами isinstance є (об'єкт, клас), а issubclass - (клас, клас)\n",
        "# Перша перевіряє належність конкретного екземпляра до певного класу або його наслідування від нього\n",
        "# Друга перевіряє, чи є в ієрархії наслідування вище першого класа другий"
      ],
      "metadata": {
        "id": "L_V1bBvDM0GN",
        "colab": {
          "base_uri": "https://localhost:8080/"
        },
        "outputId": "aa7c5b0a-f9f3-4489-d746-c96f26920959"
      },
      "execution_count": 6,
      "outputs": [
        {
          "output_type": "stream",
          "name": "stdout",
          "text": [
            "True\n",
            "True\n",
            "True\n",
            "True\n",
            "False\n",
            "True\n",
            "True\n",
            "False\n"
          ]
        }
      ]
    },
    {
      "cell_type": "markdown",
      "source": [
        "8. (13б). Створіть клас BankAccount з приватними атрибутами balance та account_number. Реалізуйте методи поповнення та зняття коштів, забезпечивши належну інкапсуляцію. Підказка: використовуйте декоратори property та setter."
      ],
      "metadata": {
        "id": "jjsaBZ-iM0Qq"
      }
    },
    {
      "cell_type": "code",
      "source": [
        "class BankAccount:\n",
        "    def __init__(self, balance, account_number):\n",
        "        self.__balance = balance\n",
        "        self.__account_number = account_number\n",
        "\n",
        "    @property\n",
        "    def balance(self):\n",
        "        return self.__balance\n",
        "\n",
        "    @property\n",
        "    def account_number(self):\n",
        "        return self.__account_number\n",
        "\n",
        "    @balance.setter\n",
        "    def balance(self, new_balance):\n",
        "        self.__balance = new_balance\n",
        "\n",
        "    def deposit(self, amount):\n",
        "        self.balance += amount\n",
        "\n",
        "    def withdraw(self, amount):\n",
        "        self.balance -= amount\n",
        "\n",
        "\n",
        "ba = BankAccount(100, \"#123456\")\n",
        "print(ba.balance)\n",
        "ba.deposit(22)\n",
        "print(ba.balance)\n",
        "ba.withdraw(75)\n",
        "print(ba.balance)"
      ],
      "metadata": {
        "id": "xCvZ7lh8M7YA",
        "colab": {
          "base_uri": "https://localhost:8080/"
        },
        "outputId": "ed8dc2cd-ba64-43b8-fa2f-dd5d671b813c"
      },
      "execution_count": 7,
      "outputs": [
        {
          "output_type": "stream",
          "name": "stdout",
          "text": [
            "100\n",
            "122\n",
            "47\n"
          ]
        }
      ]
    },
    {
      "cell_type": "markdown",
      "source": [
        "9. (11б). Створіть клас Library, який містить список об'єктів типу Book. Реалізуйте методи для додавання книги, видалення книги та відображення списку книг."
      ],
      "metadata": {
        "id": "tIzL2SJTM8ft"
      }
    },
    {
      "cell_type": "code",
      "source": [
        "class Book:\n",
        "    def __init__(self, name, pages):\n",
        "        self.name = name\n",
        "        self.pages = pages\n",
        "\n",
        "\n",
        "class Library:\n",
        "    def __init__(self, books=[]):\n",
        "        self.books = books\n",
        "\n",
        "    def add_book(self, book):\n",
        "        self.books.append(book)\n",
        "\n",
        "    def remove_book(self, book):\n",
        "        self.books.remove(book)\n",
        "\n",
        "    def show(self):\n",
        "        mapped_list = map(lambda book: f'Book \"{book.name}\" {book.pages} pages', self.books)\n",
        "        print(list(mapped_list))\n",
        "\n",
        "\n",
        "library = Library()\n",
        "library.show()\n",
        "book_red = Book(\"Red book\", 123)\n",
        "book_blue = Book(\"Blue book\", 214)\n",
        "library.add_book(book_red)\n",
        "library.add_book(book_blue)\n",
        "library.show()\n",
        "library.remove_book(book_red)\n",
        "library.show()"
      ],
      "metadata": {
        "id": "HWxfJKLtNAUZ",
        "colab": {
          "base_uri": "https://localhost:8080/"
        },
        "outputId": "b17de67f-9c28-45c9-8d77-60db8ded02a0"
      },
      "execution_count": 12,
      "outputs": [
        {
          "output_type": "stream",
          "name": "stdout",
          "text": [
            "[]\n",
            "['Book \"Red book\" 123 pages', 'Book \"Blue book\" 214 pages']\n",
            "['Book \"Blue book\" 214 pages']\n"
          ]
        }
      ]
    },
    {
      "cell_type": "markdown",
      "source": [
        "10. (13б). Створіть клас Person з атрибутами name та age. Створіть ще один клас Employee з такими атрибутами, як department та salary. Створіть клас Manager, який успадковує обидва класи Person та Employee. Продемонструйте використання множинної спадковості, створивши обʼєкт класу Manager та отримавши mro для цього класу."
      ],
      "metadata": {
        "id": "lmV8pAwwNIqu"
      }
    },
    {
      "cell_type": "code",
      "source": [
        "class Person:\n",
        "    def __init__(self, name, age):\n",
        "        self.name = name\n",
        "        self.age = age\n",
        "\n",
        "    def mro_test(self):\n",
        "        print(\"Inside Person\")\n",
        "\n",
        "\n",
        "class Employee:\n",
        "    def __init__(self, department, salary):\n",
        "        self.department = department\n",
        "        self.salary = salary\n",
        "\n",
        "    def mro_test(self):\n",
        "        print(\"Inside Employee\")\n",
        "\n",
        "\n",
        "class Manager(Person, Employee):\n",
        "    def __init__(self, name, age, department, salary):\n",
        "        Person.__init__(self, name, age)\n",
        "        Employee.__init__(self, department, salary)\n",
        "\n",
        "\n",
        "manager = Manager(\"Vlad\", 20, \"Third Department\", 2000)\n",
        "print(manager.name)\n",
        "print(manager.age)\n",
        "print(manager.department)\n",
        "print(manager.salary)\n",
        "\n",
        "print(Manager.mro())\n",
        "manager.mro_test() # Бачимо, що береться метод з класу Person, бо він раніше, ніж Employee в MRO"
      ],
      "metadata": {
        "id": "R49grKlWNPeN",
        "colab": {
          "base_uri": "https://localhost:8080/"
        },
        "outputId": "45a7dde7-334c-4cb7-eb2d-624cdc1f2b71"
      },
      "execution_count": 20,
      "outputs": [
        {
          "output_type": "stream",
          "name": "stdout",
          "text": [
            "Vlad\n",
            "20\n",
            "Third Department\n",
            "2000\n",
            "[<class '__main__.Manager'>, <class '__main__.Person'>, <class '__main__.Employee'>, <class 'object'>]\n",
            "Inside Person\n"
          ]
        }
      ]
    },
    {
      "cell_type": "markdown",
      "source": [
        "# II. Iterator"
      ],
      "metadata": {
        "id": "dIJyUiNBFG8G"
      }
    },
    {
      "cell_type": "markdown",
      "source": [
        "11. (4б). Визначте рядок(str) з 4ма різними за значенням символами. Створіть ітератор на основі цього рядка. Викличте 5 разів функцію next на ітераторі, 4ри перших з них огорніть у ф-цію print()."
      ],
      "metadata": {
        "id": "13vsm0NyKIzL"
      }
    },
    {
      "cell_type": "code",
      "source": [
        "str_4symbols = 'Vlad'\n",
        "str_4symbols_iter = iter(str_4symbols)\n",
        "print(next(str_4symbols_iter))\n",
        "print(next(str_4symbols_iter))\n",
        "print(next(str_4symbols_iter))\n",
        "print(next(str_4symbols_iter))\n",
        "next(str_4symbols_iter)"
      ],
      "metadata": {
        "id": "81ntabAkKuz-",
        "colab": {
          "base_uri": "https://localhost:8080/",
          "height": 245
        },
        "outputId": "229b6406-51f9-4be3-b9c2-3360caea0070"
      },
      "execution_count": 26,
      "outputs": [
        {
          "output_type": "stream",
          "name": "stdout",
          "text": [
            "V\n",
            "l\n",
            "a\n",
            "d\n"
          ]
        },
        {
          "output_type": "error",
          "ename": "StopIteration",
          "evalue": "",
          "traceback": [
            "\u001b[0;31m---------------------------------------------------------------------------\u001b[0m",
            "\u001b[0;31mStopIteration\u001b[0m                             Traceback (most recent call last)",
            "\u001b[0;32m<ipython-input-26-feb0380623d8>\u001b[0m in \u001b[0;36m<cell line: 7>\u001b[0;34m()\u001b[0m\n\u001b[1;32m      5\u001b[0m \u001b[0mprint\u001b[0m\u001b[0;34m(\u001b[0m\u001b[0mnext\u001b[0m\u001b[0;34m(\u001b[0m\u001b[0mstr_4symbols_iter\u001b[0m\u001b[0;34m)\u001b[0m\u001b[0;34m)\u001b[0m\u001b[0;34m\u001b[0m\u001b[0;34m\u001b[0m\u001b[0m\n\u001b[1;32m      6\u001b[0m \u001b[0mprint\u001b[0m\u001b[0;34m(\u001b[0m\u001b[0mnext\u001b[0m\u001b[0;34m(\u001b[0m\u001b[0mstr_4symbols_iter\u001b[0m\u001b[0;34m)\u001b[0m\u001b[0;34m)\u001b[0m\u001b[0;34m\u001b[0m\u001b[0;34m\u001b[0m\u001b[0m\n\u001b[0;32m----> 7\u001b[0;31m \u001b[0mnext\u001b[0m\u001b[0;34m(\u001b[0m\u001b[0mstr_4symbols_iter\u001b[0m\u001b[0;34m)\u001b[0m\u001b[0;34m\u001b[0m\u001b[0;34m\u001b[0m\u001b[0m\n\u001b[0m",
            "\u001b[0;31mStopIteration\u001b[0m: "
          ]
        }
      ]
    },
    {
      "cell_type": "markdown",
      "source": [
        "А що якщо викликати цю ж функцію на рядку?"
      ],
      "metadata": {
        "id": "aekWHGXOLRsO"
      }
    },
    {
      "cell_type": "code",
      "source": [
        "next(str_4symbols) # нічого, просто помилка, бо рядок це не ітератор"
      ],
      "metadata": {
        "id": "mxATGsErLV1i",
        "colab": {
          "base_uri": "https://localhost:8080/",
          "height": 141
        },
        "outputId": "5481f873-12c4-49b4-d4c4-1324794dc9ae"
      },
      "execution_count": 30,
      "outputs": [
        {
          "output_type": "error",
          "ename": "TypeError",
          "evalue": "'str' object is not an iterator",
          "traceback": [
            "\u001b[0;31m---------------------------------------------------------------------------\u001b[0m",
            "\u001b[0;31mTypeError\u001b[0m                                 Traceback (most recent call last)",
            "\u001b[0;32m<ipython-input-30-b28099a101eb>\u001b[0m in \u001b[0;36m<cell line: 1>\u001b[0;34m()\u001b[0m\n\u001b[0;32m----> 1\u001b[0;31m \u001b[0mnext\u001b[0m\u001b[0;34m(\u001b[0m\u001b[0mstr_4symbols\u001b[0m\u001b[0;34m)\u001b[0m \u001b[0;31m# нічого, просто помилка, бо рядок це не ітератор\u001b[0m\u001b[0;34m\u001b[0m\u001b[0;34m\u001b[0m\u001b[0m\n\u001b[0m",
            "\u001b[0;31mTypeError\u001b[0m: 'str' object is not an iterator"
          ]
        }
      ]
    },
    {
      "cell_type": "markdown",
      "source": [
        " 12. (5б). Опишіть своїми словами в одному реченні, як ви розумієте різницю між ітерабельними обʼєктами та ітераторами (можна на прикладі)."
      ],
      "metadata": {
        "id": "XwtMEopwJ4pH"
      }
    },
    {
      "cell_type": "markdown",
      "source": [
        "Ітерабельні об'єкти це будь-які об'єкти де реалізовані дві функції iter, next, здається з підкресленнями типу __iter__, __next__. Тепер цей об'єкт став ітерабельним, бо його можна тепер обернути в ітератор. Ітератор - це обгортка, яка викликається фцією iter і при кожному звертанні до нього з next він поверне щось в залежності від логіки прописаної в цих 2 методах, зазвичай це перебір по якихсь даних об'єкта. Тобто ітерабельний об'єкт має якісь дані, які можна перечислити і 2 методи, а ітератор - те, що їх перечислює."
      ],
      "metadata": {
        "id": "-sHrODc3KFn8"
      }
    },
    {
      "cell_type": "markdown",
      "source": [
        "13. (11б). Створіть клас, що має визначений Iterator Protocol та при кожному виклику next повертає літери англійської абетки, поки вони не вичерпаються."
      ],
      "metadata": {
        "id": "E9qJWmNbK8Gl"
      }
    },
    {
      "cell_type": "code",
      "source": [
        "class Alphabet:\n",
        "    def __init__(self):\n",
        "        self.current_letter = 'A'\n",
        "\n",
        "    def __iter__(self):\n",
        "        return self\n",
        "\n",
        "    def __next__(self):\n",
        "        if ord(self.current_letter) > ord('Z'):\n",
        "            raise StopIteration\n",
        "        else:\n",
        "            letter = self.current_letter\n",
        "            self.current_letter = chr(ord(self.current_letter) + 1)\n",
        "            return letter\n",
        "\n",
        "\n",
        "alphabet = Alphabet()\n",
        "for letter in alphabet:\n",
        "    print(letter)"
      ],
      "metadata": {
        "id": "cqx-g_RsLo6I",
        "colab": {
          "base_uri": "https://localhost:8080/"
        },
        "outputId": "2083984a-af13-4f85-e16d-1421c178f58f"
      },
      "execution_count": 36,
      "outputs": [
        {
          "output_type": "stream",
          "name": "stdout",
          "text": [
            "A\n",
            "B\n",
            "C\n",
            "D\n",
            "E\n",
            "F\n",
            "G\n",
            "H\n",
            "I\n",
            "J\n",
            "K\n",
            "L\n",
            "M\n",
            "N\n",
            "O\n",
            "P\n",
            "Q\n",
            "R\n",
            "S\n",
            "T\n",
            "U\n",
            "V\n",
            "W\n",
            "X\n",
            "Y\n",
            "Z\n"
          ]
        }
      ]
    },
    {
      "cell_type": "markdown",
      "source": [
        "# Вітаю! Ви велика(ий) молодець, що впоралась(вся). Похваліть себе та побалуйте чимось приємним. Я Вами пишаюся."
      ],
      "metadata": {
        "id": "Z3E3S_s1Fv7-"
      }
    }
  ]
}